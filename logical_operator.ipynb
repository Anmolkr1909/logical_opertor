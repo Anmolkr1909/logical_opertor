{
  "nbformat": 4,
  "nbformat_minor": 0,
  "metadata": {
    "colab": {
      "provenance": [],
      "authorship_tag": "ABX9TyOtChAvUJ0dUZjEH/Z2O/H0",
      "include_colab_link": true
    },
    "kernelspec": {
      "name": "python3",
      "display_name": "Python 3"
    },
    "language_info": {
      "name": "python"
    }
  },
  "cells": [
    {
      "cell_type": "markdown",
      "metadata": {
        "id": "view-in-github",
        "colab_type": "text"
      },
      "source": [
        "<a href=\"https://colab.research.google.com/github/Anmolkr1909/logical_opertor/blob/main/logical_operator.ipynb\" target=\"_parent\"><img src=\"https://colab.research.google.com/assets/colab-badge.svg\" alt=\"Open In Colab\"/></a>"
      ]
    },
    {
      "cell_type": "markdown",
      "source": [
        "# logical operator  (mini project)\n",
        "\n",
        "---\n",
        "\n"
      ],
      "metadata": {
        "id": "wTFvRdeySBjw"
      }
    },
    {
      "cell_type": "markdown",
      "source": [
        "22) Online exam eligibility checker\n",
        "\n",
        "*  using ( and )\n",
        "\n"
      ],
      "metadata": {
        "id": "FWnp3LCnSoZQ"
      }
    },
    {
      "cell_type": "code",
      "source": [
        "age = 18\n",
        "has_admit_card = true\n",
        "\n",
        "\n",
        "#Both condition must be true\n",
        "if age >= 18 and has_admit_card:\n",
        "  print(\"eligible for online exam\")\n",
        "else:\n",
        "  print(\"not eligible\")"
      ],
      "metadata": {
        "id": "cn1uSWXmTc22"
      },
      "execution_count": null,
      "outputs": []
    },
    {
      "cell_type": "markdown",
      "source": [
        "\n",
        "\n",
        "---\n",
        "\n"
      ],
      "metadata": {
        "id": "SivmVfDgT8f2"
      }
    },
    {
      "cell_type": "markdown",
      "source": [
        "23) Discount offer chcking\n",
        "\n",
        "*   using or\n",
        "\n"
      ],
      "metadata": {
        "id": "PZXy9TgYT_1P"
      }
    },
    {
      "cell_type": "code",
      "source": [
        "is_student = False\n",
        "has_discount_coupon = True\n",
        "\n",
        "# If any one condition is true\n",
        "if is_student or has_discount_coupon:\n",
        "  print(\"you are eligible for discount\")\n",
        "else:\n",
        "  print(\"you are not eligible for discount\")"
      ],
      "metadata": {
        "colab": {
          "base_uri": "https://localhost:8080/"
        },
        "id": "NVQnUDPJULKZ",
        "outputId": "6f7e5680-f770-4417-90e0-03b50988e4ea"
      },
      "execution_count": null,
      "outputs": [
        {
          "output_type": "stream",
          "name": "stdout",
          "text": [
            "you are eligible for discount\n"
          ]
        }
      ]
    },
    {
      "cell_type": "markdown",
      "source": [
        "\n",
        "\n",
        "---\n",
        "\n"
      ],
      "metadata": {
        "id": "NoUF6xy9VgGF"
      }
    },
    {
      "cell_type": "markdown",
      "source": [
        "24) Movie ticket booking check\n",
        "\n",
        "*   using  ( and , not )\n",
        "\n",
        "\n",
        "\n"
      ],
      "metadata": {
        "id": "hjPC-0ZmUouu"
      }
    },
    {
      "cell_type": "code",
      "source": [
        "has_ticket = True\n",
        "is_theatre_closed = False\n",
        "\n",
        "\n",
        "#user must have ticket and theatre should not be cloed\n",
        "if has_ticket and not is_theatre_closed:\n",
        "  print(\"enjoy your movie\")\n",
        "else:\n",
        "  print(\"show is not available\")"
      ],
      "metadata": {
        "colab": {
          "base_uri": "https://localhost:8080/"
        },
        "id": "K_YhKz-9T9rx",
        "outputId": "5bf564f4-49a3-4a7a-affc-1a748008619f"
      },
      "execution_count": null,
      "outputs": [
        {
          "output_type": "stream",
          "name": "stdout",
          "text": [
            "enjoy your movie\n"
          ]
        }
      ]
    },
    {
      "cell_type": "markdown",
      "source": [
        "\n",
        "\n",
        "---\n",
        "\n"
      ],
      "metadata": {
        "id": "Z5c3xTE3Veof"
      }
    },
    {
      "cell_type": "markdown",
      "source": [],
      "metadata": {
        "id": "mfZ4L_WxVemj"
      }
    }
  ]
}